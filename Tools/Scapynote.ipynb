{
 "cells": [
  {
   "cell_type": "code",
   "execution_count": null,
   "metadata": {},
   "outputs": [],
   "source": [
    "from scapy.all import *\n",
    "filepath = \"/home/john/桌面/Anonymous/testflow.pcap\"\n",
    "packages = rdpcap(filepath)[IP]"
   ]
  },
  {
   "cell_type": "code",
   "execution_count": null,
   "metadata": {},
   "outputs": [],
   "source": [
    "datasets = dict()\n",
    "hashes = set()\n",
    "for i in range(len(packages)):\n",
    "    p = packages[i]\n",
    "    hashid = '' + str(p.proto) + str(p[IP].src) + str(p[IP].dst) + str(p.sport) + str(p.dport)\n",
    "    hashid = hash(hashid)\n",
    "    if not hashid in hashes:\n",
    "        hashes.add(hashid)\n",
    "        datasets[hashid] = [p]\n",
    "        continue\n",
    "    datasets[hashid].append(p)\n",
    "\n",
    "# print(len(hashes))\n",
    "\n",
    "biflow = []\n",
    "showed = set()\n",
    "for key in datasets.keys():\n",
    "    temp = []\n",
    "    showed.add(key)\n",
    "    temp.append(datasets[key])\n",
    "    p = datasets[key][0]\n",
    "    re_key = '' + str(p.proto) + str(p[IP].dst) + str(p[IP].src) + str(p.dport) + str(p.sport)\n",
    "    re_key = hash(re_key)\n",
    "    if re_key in showed:\n",
    "        continue\n",
    "    if not re_key in hashes:\n",
    "        biflow.append(temp)\n",
    "    else:\n",
    "        temp.append(datasets[re_key])\n",
    "        biflow.append(temp)\n",
    "        \n",
    "print(len(biflow))"
   ]
  }
 ],
 "metadata": {
  "kernelspec": {
   "display_name": "Python 3",
   "language": "python",
   "name": "python3"
  },
  "language_info": {
   "codemirror_mode": {
    "name": "ipython",
    "version": 3
   },
   "file_extension": ".py",
   "mimetype": "text/x-python",
   "name": "python",
   "nbconvert_exporter": "python",
   "pygments_lexer": "ipython3",
   "version": "3.6.5"
  }
 },
 "nbformat": 4,
 "nbformat_minor": 2
}
