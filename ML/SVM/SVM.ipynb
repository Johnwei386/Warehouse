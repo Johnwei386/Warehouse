{
 "cells": [
  {
   "cell_type": "markdown",
   "metadata": {},
   "source": [
    "支持向量机(SVM)\n",
    "-------------------------\n",
    "\n",
    "![](graphs/svm1.png)\n",
    "图1 多个划分超平面将两类分类样本分开\n",
    "\n",
    "给定训练样本集$D = \\{(x_1, y_1), (x_2, y_2), \\ldots ,(x_m, y_m)\\}, y_i \\in \\{-1, 1\\}$，分类器的目的是要在训练集D中找到一个划分超平面，将不同类别的样本分开。但是，能将训练样本分开的划分超平面可能有很多，如图1所示，红线表示的划分超平面能将两类样本很好的分开，而其他的划分超平面与某类样本的距离要更近一些，受这类样本的影响要大一些，而红线表示的划分超平面距离两类样本的距离大致是一样的，它更加公正一些。\n",
    "\n",
    "划分超平面可以用如下线性方程来描述：\n",
    "$$ w^T x + b = 0 $$\n",
    "其中$w$为法向量，决定了超平面的方向，$b$为位移项，决定了超平面与原点之间的距离，下面将划分超平面记为$(w,b)$。\n",
    "\n",
    "对于一个二分类器而言，其假设函数可以表示为：\n",
    "$$\n",
    "h_{w,b}(x) = g(w^T x + b), \n",
    "g(z)=\\left\\{\n",
    "\\begin{array}{rcl}\n",
    "& 1, &if \\quad z \\geq 0  \\\\\n",
    "& -1, &other\n",
    "\\end{array} \\right.\n",
    "$$\n",
    "\n",
    "样本$x_i$的分类$y_i = h_{w,b}(x_i)$。"
   ]
  },
  {
   "cell_type": "markdown",
   "metadata": {},
   "source": [
    "### 1. 最大间隔分类器\n",
    "**函数间隔**: 一个划分超平面$(w,b)$和某个训练样本$(x_i, y_i)$的**函数间隔**被定义为：\n",
    "$$ \\hat{Y}_i = y_i \\cdot (w^T x_i + b) \\quad (1.1) $$\n",
    "若$y_i = 1$，为了取得较大的函数间隔，需令$(w^T x_i + b) \\gg 0$；若$y_i = -1$，为了获得较大的函数间隔，需令$(w^T x_i + b) \\ll 0$。而$y_i \\cdot (w^T x_i + b) \\gg 0$则意味着分类结果是正确的。\n",
    "\n",
    "一个划分超平面$(w,b)$和整个训练集的函数间隔定义为:\n",
    "$$ \\hat{Y} = min \\hat{Y}_i $$\n",
    "即所有训练样本与超平面的函数距离中最小的那个距离。那么训练的目标可以是期望在最坏的情况下，总的函数间隔$\\hat{Y}$取得一个较大的值。\n",
    "\n",
    "实际上，要使函数间隔取得较大的值是非常容易的，比如，将原来要求的参数变为2倍，则$\\hat{Y}$会变成原来的两倍，故单纯的以最大化函数间隔为训练目标是没有多大的意义的，除非添加一个约束：$||w|| = 1$。\n",
    "\n",
    "![](graphs/svm2.png)\n",
    "图2 样本$i$的几何距离$Y_i$,$n$为划分超平面的法向量\n",
    "\n",
    "**几何间隔**: 训练样本对应到几何空间上的点和由超平面确定的分隔线之间的几何距离，它被定义为:\n",
    "$$\n",
    "Y_i = y_i \\cdot \\Big(\\frac{w^T}{||w||} x_i + \\frac{b}{||w||} \\Big) \\quad (1.2)\n",
    "$$\n",
    "\n",
    "由几何间隔的定义可以得到如下两个结论：\n",
    "1. 若$||w|| = 1$，则几何距离等于函数距离。\n",
    "2. 一般的，几何间隔和函数间隔的关系可以描述为：\n",
    "$$Y = \\frac{\\hat{Y}}{||w||}$$\n",
    "\n",
    "整个训练集的几何距离被定义为:\n",
    "$$\n",
    "Y = min Y_i\n",
    "$$\n",
    "\n",
    "**最大间隔分类器**是指以得到较大的几何间隔为训练目标的分类器，它是支持向量机的前身，它需要选择$Y, w, b$来使得几何距离最大，同时满足约束。最大间隔分类可以描述为如下的优化问题：\n",
    "$$\n",
    "\\mathop{max}\\limits_{Y,w,b} Y, constraint = y_i \\cdot (w^T x_i + b) \\geq Y  \\quad (1.3)\n",
    "$$"
   ]
  },
  {
   "cell_type": "markdown",
   "metadata": {},
   "source": [
    "### 2. SVM的基本型\n",
    "最大间隔分类问题可以描述为：\n",
    "$$\n",
    "\\mathop{max}\\limits_{Y,w,b} \\frac{\\hat{Y}}{||w||}, constraint = y_i \\cdot (w^T x_i + b) \\geq \\hat{Y} \\quad (2.1)\n",
    "$$\n",
    "\n",
    "最大间隔分类器的约束是一个非凸约束，为了简化问题，可以将函数间隔设为1，则这个优化问题可以变为：\n",
    "$$\n",
    "\\mathop{max}\\limits_{w,b} \\frac{1}{||w||}, constraint = y_i \\cdot (w^T x_i + b) \\geq 1 \\quad (2.2)\n",
    "$$\n",
    "\n",
    "最大化$\\frac{1}{||w||}$等价于最小化$||w||^2$，于是式2.2可以重写为：\n",
    "$$\n",
    "\\mathop{min}\\limits_{w,b} \\frac{1}{2}||w||^2, constraint = y_i \\cdot (w^T x_i + b) \\geq 1 \\quad (2.3)\n",
    "$$\n",
    "\n",
    "式2.3便是支持向量机的基本型，即原始优化问题。"
   ]
  },
  {
   "cell_type": "markdown",
   "metadata": {},
   "source": [
    "### 3. 对偶优化问题\n",
    "原始优化问题可以转化为对偶优化问题，这样做的理由是对偶优化问题具有一些很好的性质，可以将原始优化问题对应的分类器应用于更高维的特征向量空间，甚至是无限维的特征向量空间。"
   ]
  },
  {
   "cell_type": "code",
   "execution_count": null,
   "metadata": {},
   "outputs": [],
   "source": []
  }
 ],
 "metadata": {
  "kernelspec": {
   "display_name": "Python 3",
   "language": "python",
   "name": "python3"
  },
  "language_info": {
   "codemirror_mode": {
    "name": "ipython",
    "version": 3
   },
   "file_extension": ".py",
   "mimetype": "text/x-python",
   "name": "python",
   "nbconvert_exporter": "python",
   "pygments_lexer": "ipython3",
   "version": "3.6.5"
  }
 },
 "nbformat": 4,
 "nbformat_minor": 2
}
